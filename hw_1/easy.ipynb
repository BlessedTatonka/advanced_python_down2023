{
 "cells": [
  {
   "cell_type": "code",
   "execution_count": 2,
   "id": "438179e1",
   "metadata": {},
   "outputs": [
    {
     "data": {
      "text/plain": [
       "[0, 1, 1, 2, 3, 5, 8, 13, 21, 34]"
      ]
     },
     "execution_count": 2,
     "metadata": {},
     "output_type": "execute_result"
    }
   ],
   "source": [
    "def n_fibbonachi(n):\n",
    "    res = []\n",
    "    for i in range(1, n + 1):\n",
    "        if i == 1:\n",
    "            res.append(0)\n",
    "        elif i == 2:\n",
    "            res.append(1)\n",
    "        else:\n",
    "            res.append(res[len(res) - 1] + res[len(res) - 2])\n",
    "            \n",
    "    return res\n",
    "\n",
    "n_fibbonachi(10)"
   ]
  },
  {
   "cell_type": "code",
   "execution_count": 3,
   "id": "2e70922f",
   "metadata": {},
   "outputs": [],
   "source": [
    "import networkx\n",
    "\n"
   ]
  }
 ],
 "metadata": {
  "kernelspec": {
   "display_name": "Python 3 (ipykernel)",
   "language": "python",
   "name": "python3"
  },
  "language_info": {
   "codemirror_mode": {
    "name": "ipython",
    "version": 3
   },
   "file_extension": ".py",
   "mimetype": "text/x-python",
   "name": "python",
   "nbconvert_exporter": "python",
   "pygments_lexer": "ipython3",
   "version": "3.8.9"
  }
 },
 "nbformat": 4,
 "nbformat_minor": 5
}

{
 "cells": [
  {
   "cell_type": "code",
   "execution_count": 51,
   "id": "20648666",
   "metadata": {
    "scrolled": true
   },
   "outputs": [
    {
     "name": "stdout",
     "output_type": "stream",
     "text": [
      "\\begin{tabular}{ccc}\n",
      "1 & qwe & 1 \\\\ \n",
      "3 & 4 & 4 \\\\ \n",
      "5 & 6 & 1 \\\\ \n",
      "7 & a & 11\n",
      "\\end{tabular}\n",
      "\n"
     ]
    }
   ],
   "source": [
    "from functools import reduce\n",
    "\n",
    "def make_row(values):\n",
    "    return reduce(lambda x, y: f'{x} & {y}', values)\n",
    "\n",
    "def add_cover(rows, n):\n",
    "    header = \"\\\\begin{tabular}{\" + 'c' * n + \"}\\n\" \n",
    "    footer = \"\\n\\\\end{tabular}\\n\"\n",
    "    return header + rows + footer\n",
    "    \n",
    "def generate_table(values):\n",
    "    table = add_cover(reduce(lambda x, y: x + ' \\\\\\ \\n' + y, list(map(make_row, values))), len(values[0]))\n",
    "    print(table)\n",
    "    return table\n",
    "\n",
    "\n",
    "with open('table.tex', 'w') as fout:\n",
    "    table = generate_table([[1, 'qwe', 1], [3, 4, 4], [5, 6, 1], [7, 'a', 11]])\n",
    "    fout.write(table)"
   ]
  }
 ],
 "metadata": {
  "kernelspec": {
   "display_name": "Python 3 (ipykernel)",
   "language": "python",
   "name": "python3"
  },
  "language_info": {
   "codemirror_mode": {
    "name": "ipython",
    "version": 3
   },
   "file_extension": ".py",
   "mimetype": "text/x-python",
   "name": "python",
   "nbconvert_exporter": "python",
   "pygments_lexer": "ipython3",
   "version": "3.8.9"
  }
 },
 "nbformat": 4,
 "nbformat_minor": 5
}
